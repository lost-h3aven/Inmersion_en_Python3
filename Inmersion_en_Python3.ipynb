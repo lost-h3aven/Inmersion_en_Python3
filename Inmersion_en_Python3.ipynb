{
  "nbformat": 4,
  "nbformat_minor": 0,
  "metadata": {
    "colab": {
      "name": "Tutorial_Python.ipynb",
      "version": "0.3.2",
      "provenance": [],
      "collapsed_sections": [],
      "toc_visible": true,
      "include_colab_link": true
    },
    "kernelspec": {
      "name": "python3",
      "display_name": "Python 3"
    }
  },
  "cells": [
    {
      "cell_type": "markdown",
      "metadata": {
        "id": "view-in-github",
        "colab_type": "text"
      },
      "source": [
        "[View in Colaboratory](https://colab.research.google.com/github/lost-h3aven/Inmersion_en_Python3/blob/master/Inmersion_en_Python3.ipynb)"
      ]
    },
    {
      "metadata": {
        "id": "ZDkmiXmehj5E",
        "colab_type": "text"
      },
      "cell_type": "markdown",
      "source": [
        "# Inmersión en Python 3\n",
        "#### Escrito por Mark Pilgrim\n",
        "####Traducción por José Miguel Gonzáles Aguilera\n",
        "![alt text](https://pythonizame.s3.amazonaws.com/media/thumbs/Book/inmersion-en-python-3/image/42b38d02-5976-11e5-964d-04015fb6ba01.png.400x400_q85.png)\n",
        "\n",
        "---\n",
        "\n",
        "\n"
      ]
    },
    {
      "metadata": {
        "id": "kJ-526xpnjau",
        "colab_type": "text"
      },
      "cell_type": "markdown",
      "source": [
        "## Capitulo 0: Instalación.\n",
        "\n",
        "En capítulo 0 podrán ver los pasos necesarios para la instalación de python 3 desde dieferentes sistemas operativos, tales como:\n",
        "\n",
        "\n",
        "*   Windows\n",
        "*   Mac OS X\n",
        "*   Ubuntu Linux\n",
        "\n",
        "Posteriormente muestra el uso de la consola interactiva de python.\n",
        "\n",
        "Finalmente se hace mención de algunos editores e IDEs para python.\n",
        "\n",
        "\n",
        "\n",
        "---\n",
        "\n"
      ]
    },
    {
      "metadata": {
        "id": "7OEQS4ydnk3H",
        "colab_type": "text"
      },
      "cell_type": "markdown",
      "source": [
        "## Capitulo 1: Tu primer programa en Python."
      ]
    },
    {
      "metadata": {
        "id": "aD2G6zbctctz",
        "colab_type": "code",
        "colab": {
          "base_uri": "https://localhost:8080/",
          "height": 51
        },
        "outputId": "6af71ef0-65d5-4355-d2cb-77023f3775ca"
      },
      "cell_type": "code",
      "source": [
        "# parahumanos.py\n",
        "\n",
        "SUFIJOS = {1000: [ 'KB' , 'MB' , 'GB' , 'TB' , 'PB' , 'EB' , 'ZB' , 'YB' ] ,\n",
        "           1024: [ 'KiB ' , 'MiB ' , 'GiB ' , 'TiB ' , 'PiB ' , 'EiB ' , ' ZiB ' ,'YiB ' ]}\n",
        "\n",
        "def tamanyo_aproximado(tamanyo , un_kilobyte_es_1024_bytes=True):\n",
        "\n",
        "  if tamanyo < 0 :\n",
        "    raise ValueError('El número debe ser no negativo')\n",
        "    \n",
        "  multiplo = 1024 if un_kilobyte_es_1024_bytes else 1000\n",
        "  for sufijo in SUFIJOS [multiplo]:\n",
        "    tamanyo /= multiplo\n",
        "    if tamanyo < multiplo:\n",
        "      return '{0:.1f} {1}'.format(tamanyo, sufijo)\n",
        "      \n",
        "  raise ValueError('Número demasiado grande')\n",
        "  \n",
        "if __name__ == '__main__':\n",
        "  print (tamanyo_aproximado(1000000000000, False))\n",
        "  print (tamanyo_aproximado(1000000000000))"
      ],
      "execution_count": 33,
      "outputs": [
        {
          "output_type": "stream",
          "text": [
            "1.0 TB\n",
            "931.3 GiB \n"
          ],
          "name": "stdout"
        }
      ]
    },
    {
      "metadata": {
        "id": "dt854efSrnh1",
        "colab_type": "text"
      },
      "cell_type": "markdown",
      "source": [
        "\n",
        "\n",
        "---\n",
        "\n",
        "\n",
        "###Funciones\n",
        "En Python únicamente hay que declarar la función, como en el siguiente ejemplo:\n",
        "\n",
        "\n",
        "```\n",
        "def tamanyo aproximado ( tamayo , un_kilo_byte_es_1024_bytes=True ) :\n",
        "```\n",
        "\n",
        "La palabra reservada **def** inicia la declaración de la función, seguida del nombre que se le quiere dar a la misma, seguida de los parámetros de la función entre paréntesis. Separándolos por comas en caso de que sean varios parámetros.\n",
        "\n",
        "En Python ni siquiera se especifica si se retorna o no un valor.\n",
        "\n",
        "Python permite que los parámetros de una función tengan valores por defecto; si la función se llama (para ejecutarla) si indicar el parámetro, Python usará el valor por defecto para asignarlo al parámetro que no se ha especificado en la llamada a la función. \n",
        "\n",
        "\n",
        "\n",
        "Por ejemplo, se manda llamar la función \"tamanyo_aproximado\" sin definir el segundo parámetro, y se puede observar que la variable toma un TRUE por default.\n"
      ]
    },
    {
      "metadata": {
        "id": "McgLa8z-rUZq",
        "colab_type": "code",
        "colab": {
          "base_uri": "https://localhost:8080/",
          "height": 34
        },
        "outputId": "0380852d-ccbf-42a6-9da4-fc3f06175780"
      },
      "cell_type": "code",
      "source": [
        "tamanyo_aproximado(4000)"
      ],
      "execution_count": 34,
      "outputs": [
        {
          "output_type": "execute_result",
          "data": {
            "text/plain": [
              "'3.9 KiB '"
            ]
          },
          "metadata": {
            "tags": []
          },
          "execution_count": 34
        }
      ]
    },
    {
      "metadata": {
        "id": "DPSJZAoj2s32",
        "colab_type": "code",
        "colab": {
          "base_uri": "https://localhost:8080/",
          "height": 34
        },
        "outputId": "f774be17-1080-4844-c0c0-3d2b1c6a885b"
      },
      "cell_type": "code",
      "source": [
        "tamanyo_aproximado(4000,False)"
      ],
      "execution_count": 35,
      "outputs": [
        {
          "output_type": "execute_result",
          "data": {
            "text/plain": [
              "'4.0 KB'"
            ]
          },
          "metadata": {
            "tags": []
          },
          "execution_count": 35
        }
      ]
    },
    {
      "metadata": {
        "id": "pDmDpsgv480U",
        "colab_type": "text"
      },
      "cell_type": "markdown",
      "source": [
        "\n",
        "\n",
        "---\n",
        "\n",
        "###Import\n",
        "Cuando importas un módulo, Python busca en varios lugares hasta encontrarlo. En concreto, busca en todos los directorios que se encuentren definidos en la variable **sys.path**. Como se trata de una lista, puedes verla fácilmente o modificarla con los métodos estándares de manipulación de listas."
      ]
    },
    {
      "metadata": {
        "id": "0VPNbiOg6Nsp",
        "colab_type": "text"
      },
      "cell_type": "markdown",
      "source": [
        "\n",
        "\n",
        "---\n",
        "\n",
        "###Identar código\n",
        "\n",
        "Las funciones de Python no tienen **begin** o **end**, y tampoco existen llaves que marquen donde comienza y acaba el código de una función. El único delimitador es el símbolo de los dos puntos (:) y el propio indentado del código.\n",
        "\n",
        "\n",
        "*   Los bloques de código se definen por su indentado. Por \"bloque de código\" se entiende lo siguiente: funciones, sentencias if, bucles for, bucles while y similar. Al indentar se inicia el bloque y al desindentar se ánaliza. No existen llaves, corchetes o palabras clave para iniciar y ánalizar un bloque de forma explícita. Esto implica que los espacios en blanco son significativos, y deben ser consistentes. \n",
        "* En Python, la sentencia if debe contener un bloque de código. Si la expresión que sigue al if es verdadera, se ejecuta el bloque indentado que contiene el if, en caso contrario lo que se ejecuta es el bloque contenido en el else (si existe). \n",
        "* Las líneas que estan completamente en blanco no cuentan. Únicamente sirven para hacer más legible el c\u0013odigo, pero no cuentan como delimitadores de código. La función continúa en la línea siguiente.\n",
        "*   El bucle for también marca el comienzo de un bloque de código. Los bloques pueden contener múltiples líneas, siempre que estén indentadas con el mismo número de espacios. \n"
      ]
    },
    {
      "metadata": {
        "id": "-kYwL6wY9dnc",
        "colab_type": "text"
      },
      "cell_type": "markdown",
      "source": [
        "---\n",
        "###Capturar errores al importar\n",
        "Una de las excepciones internas de Python es ImportError, que se eleva cuando intentas importar un módulo y falla. Esto puede suceder por diversas causas, pero\n",
        "la más simple es que el módulo no exista en tu camino de búsqueda. Puedes utilizar esta excepción para incluir características opcionales a tu programa. También puedes utilizar un bloque try...except.\n",
        "\n",
        "\n",
        "\n",
        "```\n",
        "try :\n",
        "  import charde t\n",
        "except ImportError :\n",
        "  charde t = None\n",
        "```\n",
        "\n",
        "Posteriormente, en el código, puedes consultar la presencia de la librería con una simple sentencia if:\n",
        "\n",
        "\n",
        "\n",
        "```\n",
        "if chardet:\n",
        "  #hacer algo\n",
        "else:\n",
        "  #seguir de todos modos\n",
        "```\n",
        "\n"
      ]
    },
    {
      "metadata": {
        "id": "H3zbZsdQABLU",
        "colab_type": "text"
      },
      "cell_type": "markdown",
      "source": [
        "\n",
        "\n",
        "---\n",
        "\n",
        "\n",
        "## Capitulo 2: Tipos de datos nativos.\n",
        "\n",
        "Python proporciona muchos tipos de dato nativos. A continuación se muestran los más importantes:\n",
        "\n",
        "* Booleanos: Su valor es True o False.\n",
        "* Números: Pueden ser enteros (1, 2, 3,...),  flotantes (1.1, 1.2, 1.3,...), fracciones (1/2, 1/3, 2/3,...), o incluso números complejos (i = √ (-1)).\n",
        "* Cadenas: Son secuencias de caracteres Unicode.\n",
        "* Bytes y arrays de bytes: por ejemplo, un fichero de imágenes JPEG.\n",
        "* Listas: Son secuencias ordenadas de valores.\n",
        "* Tuplas: Son secuencias ordenadas e inmutables de valores.\n",
        "* Conjuntos: Son \"bolsas\" de valores sin ordenar.\n",
        "* Diccionarios: Son \"bolsas\" sin ordenar de parejas clave-valor. Es posible buscar directamente por clave."
      ]
    },
    {
      "metadata": {
        "id": "U4bIx0HpDCmt",
        "colab_type": "text"
      },
      "cell_type": "markdown",
      "source": [
        "\n",
        "\n",
        "---\n",
        "\n",
        "\n",
        "###Trigonometría\n",
        "También puedes hacer cálculos trigonométricos en Python.\n",
        "\n",
        "A continuación se muestran algunas funciones del módulo **math**.\n",
        "\n",
        "1. El módulo **math** tiene definida una constante que almacena el valor del número π, la razón de la circunferencia de un círculo respecto de su diámetro.\n",
        "2. En el módulo** math** se encuentran todas las funciones trigonométricas básicas, incluidas sin(), cos(), tan() y variantes como asin().\n",
        "3. Python no tiene precisión infinita, tan(π/4) debería devolver 1.0, no 0.99999999999999989.\n"
      ]
    },
    {
      "metadata": {
        "id": "faOwpWM1DZAD",
        "colab_type": "code",
        "colab": {
          "base_uri": "https://localhost:8080/",
          "height": 34
        },
        "outputId": "3a3bdb5a-4252-4691-ad42-bfaab5c41c4d"
      },
      "cell_type": "code",
      "source": [
        "import math\n",
        "math . pi"
      ],
      "execution_count": 36,
      "outputs": [
        {
          "output_type": "execute_result",
          "data": {
            "text/plain": [
              "3.141592653589793"
            ]
          },
          "metadata": {
            "tags": []
          },
          "execution_count": 36
        }
      ]
    },
    {
      "metadata": {
        "id": "ueVIqbpVDgl5",
        "colab_type": "code",
        "colab": {
          "base_uri": "https://localhost:8080/",
          "height": 34
        },
        "outputId": "ab700a4a-7570-47ba-91aa-3d22485ebb38"
      },
      "cell_type": "code",
      "source": [
        "math.sin(math.pi/2)"
      ],
      "execution_count": 38,
      "outputs": [
        {
          "output_type": "execute_result",
          "data": {
            "text/plain": [
              "1.0"
            ]
          },
          "metadata": {
            "tags": []
          },
          "execution_count": 38
        }
      ]
    },
    {
      "metadata": {
        "id": "Av-sI039Dsy3",
        "colab_type": "code",
        "colab": {
          "base_uri": "https://localhost:8080/",
          "height": 34
        },
        "outputId": "824cce51-4830-4383-e40a-bdfefe4ae0b6"
      },
      "cell_type": "code",
      "source": [
        "math.tan(math.pi/4)"
      ],
      "execution_count": 39,
      "outputs": [
        {
          "output_type": "execute_result",
          "data": {
            "text/plain": [
              "0.9999999999999999"
            ]
          },
          "metadata": {
            "tags": []
          },
          "execution_count": 39
        }
      ]
    },
    {
      "metadata": {
        "id": "WRNT3PHNFkPL",
        "colab_type": "text"
      },
      "cell_type": "markdown",
      "source": [
        "\n",
        "\n",
        "---\n",
        "\n",
        "\n",
        "###Listas\n",
        "\n",
        "En Python las variables se pueden nombrar como se quiera, ya que Python mantiene el tipo de datos internamente.\n",
        "\n",
        "Una lista de Python es mucho más que un array de Java (aunque puede utilizarse como si lo fuese si eso es lo que se desea). Una analogía mejor sería pensar en la clase ArrayList de Java, que puede almacenar un número arbitrario de objetos y expandir su tamaño dinámicamente al añadir nuevos elementos."
      ]
    },
    {
      "metadata": {
        "id": "UJcPU7sDFrkC",
        "colab_type": "code",
        "colab": {
          "base_uri": "https://localhost:8080/",
          "height": 34
        },
        "outputId": "999476cb-8b42-421d-d547-81fa9576f24c"
      },
      "cell_type": "code",
      "source": [
        "lista = ['a', 'b', 'jmgaguilera', 'z', 'ejemplo']\n",
        "lista"
      ],
      "execution_count": 43,
      "outputs": [
        {
          "output_type": "execute_result",
          "data": {
            "text/plain": [
              "['a', 'b', 'jmgaguilera', 'z', 'ejemplo']"
            ]
          },
          "metadata": {
            "tags": []
          },
          "execution_count": 43
        }
      ]
    },
    {
      "metadata": {
        "id": "8qCWyC4lGKvj",
        "colab_type": "code",
        "colab": {
          "base_uri": "https://localhost:8080/",
          "height": 34
        },
        "outputId": "e44334f7-5e05-4bed-a814-452244a4c813"
      },
      "cell_type": "code",
      "source": [
        "lista[0]"
      ],
      "execution_count": 42,
      "outputs": [
        {
          "output_type": "execute_result",
          "data": {
            "text/plain": [
              "'a'"
            ]
          },
          "metadata": {
            "tags": []
          },
          "execution_count": 42
        }
      ]
    },
    {
      "metadata": {
        "id": "w5z-k8K7GOte",
        "colab_type": "code",
        "colab": {
          "base_uri": "https://localhost:8080/",
          "height": 34
        },
        "outputId": "51fddefe-c071-489c-845b-a8c248a5c767"
      },
      "cell_type": "code",
      "source": [
        "lista[-2]"
      ],
      "execution_count": 45,
      "outputs": [
        {
          "output_type": "execute_result",
          "data": {
            "text/plain": [
              "'z'"
            ]
          },
          "metadata": {
            "tags": []
          },
          "execution_count": 45
        }
      ]
    },
    {
      "metadata": {
        "id": "kfkLzCssGkqv",
        "colab_type": "text"
      },
      "cell_type": "markdown",
      "source": [
        "Existen cuatro maneras de a~nadir elementos a una lista:\n",
        "\n",
        "\n",
        "\n",
        "```\n",
        "# lista = lista + [nuevoElemento, nuevoElementoN]\n",
        "```\n",
        "\n",
        "\n",
        "```\n",
        "# lista.append(nuevoElemento)\n",
        "```\n",
        "\n",
        "\n",
        "```\n",
        "# lista.extend(\"nuevoElemento\",\"nuevoElementoN\")\n",
        "```\n",
        "\n",
        "\n",
        "\n",
        "```\n",
        "# lista.insert(nuevoElemento, \"NuevoElemento\")\n",
        "```\n",
        "\n"
      ]
    },
    {
      "metadata": {
        "id": "oiQncRm0Ha2I",
        "colab_type": "code",
        "colab": {
          "base_uri": "https://localhost:8080/",
          "height": 34
        },
        "outputId": "cad73578-b41b-4495-c9e8-458cc8488bef"
      },
      "cell_type": "code",
      "source": [
        "lista = lista + [2.0, 3]\n",
        "lista"
      ],
      "execution_count": 46,
      "outputs": [
        {
          "output_type": "execute_result",
          "data": {
            "text/plain": [
              "['a', 'b', 'jmgaguilera', 'z', 'ejemplo', 2.0, 3]"
            ]
          },
          "metadata": {
            "tags": []
          },
          "execution_count": 46
        }
      ]
    },
    {
      "metadata": {
        "id": "KuT5XF7LH-ch",
        "colab_type": "code",
        "colab": {
          "base_uri": "https://localhost:8080/",
          "height": 34
        },
        "outputId": "245d2229-ddb7-47ff-f283-86477fdf8a0a"
      },
      "cell_type": "code",
      "source": [
        "lista.append(True)\n",
        "lista"
      ],
      "execution_count": 47,
      "outputs": [
        {
          "output_type": "execute_result",
          "data": {
            "text/plain": [
              "['a', 'b', 'jmgaguilera', 'z', 'ejemplo', 2.0, 3, True]"
            ]
          },
          "metadata": {
            "tags": []
          },
          "execution_count": 47
        }
      ]
    },
    {
      "metadata": {
        "id": "UbioGSLpIDXZ",
        "colab_type": "code",
        "colab": {
          "base_uri": "https://localhost:8080/",
          "height": 34
        },
        "outputId": "c89685eb-c9e3-45fb-d27f-7a187bada9f3"
      },
      "cell_type": "code",
      "source": [
        "lista.extend([\"cuatro\",\"omega\"])\n",
        "lista"
      ],
      "execution_count": 49,
      "outputs": [
        {
          "output_type": "execute_result",
          "data": {
            "text/plain": [
              "['a', 'b', 'jmgaguilera', 'z', 'ejemplo', 2.0, 3, True, 'cuatro', 'omega']"
            ]
          },
          "metadata": {
            "tags": []
          },
          "execution_count": 49
        }
      ]
    },
    {
      "metadata": {
        "id": "r30nRl5vINAM",
        "colab_type": "code",
        "colab": {
          "base_uri": "https://localhost:8080/",
          "height": 204
        },
        "outputId": "e7b473ac-a0ed-43e3-8448-b1229ab9f15e"
      },
      "cell_type": "code",
      "source": [
        "lista.insert(0, \":)\")\n",
        "lista"
      ],
      "execution_count": 50,
      "outputs": [
        {
          "output_type": "execute_result",
          "data": {
            "text/plain": [
              "[':)',\n",
              " 'a',\n",
              " 'b',\n",
              " 'jmgaguilera',\n",
              " 'z',\n",
              " 'ejemplo',\n",
              " 2.0,\n",
              " 3,\n",
              " True,\n",
              " 'cuatro',\n",
              " 'omega']"
            ]
          },
          "metadata": {
            "tags": []
          },
          "execution_count": 50
        }
      ]
    },
    {
      "metadata": {
        "id": "LLak9ZjoJV2n",
        "colab_type": "text"
      },
      "cell_type": "markdown",
      "source": [
        "Otro método de interés que tiene las listas es **pop()**, que permite eliminar elementos de una lista de un modo especial."
      ]
    },
    {
      "metadata": {
        "id": "90-uI_wKJcIN",
        "colab_type": "code",
        "colab": {
          "base_uri": "https://localhost:8080/",
          "height": 34
        },
        "outputId": "a7f23366-0b4d-4ff9-ce47-e847cf126c6c"
      },
      "cell_type": "code",
      "source": [
        "lista.pop(5)\n",
        "lista"
      ],
      "execution_count": 51,
      "outputs": [
        {
          "output_type": "execute_result",
          "data": {
            "text/plain": [
              "[':)', 'a', 'b', 'jmgaguilera', 'z', 2.0, 3, True, 'cuatro', 'omega']"
            ]
          },
          "metadata": {
            "tags": []
          },
          "execution_count": 51
        }
      ]
    },
    {
      "metadata": {
        "id": "Z_zLDNw6J0jt",
        "colab_type": "text"
      },
      "cell_type": "markdown",
      "source": [
        "\n",
        "\n",
        "---\n",
        "\n",
        "\n",
        "###Tuplas\n",
        "Una tupla es una lista inmutable. Una tupla no se puede modificar después de haberla creado.\n",
        "\n",
        "Las tuplas se definen de la misma forma que las listas. La única diferencia es que los elementos se cierran entre paréntesis en lugar de corchetes.\n",
        "Las tuplas son más rápidas que las listas. Si lo que defines es un conjunto estático de valores y todo lo que vas a hacer es iterar a través de ellos, lo mejor es que uses una tupla en lugar de una lista.\n",
        "\n",
        "\n",
        "*   Es más seguro, puesto que proteges contra escritura los datos que no necesitas modificar.\n",
        "*   Las tuplas se pueden convertir en listas y viceversa. La función interna **tuple()** puede recibir como parámetro una lista y devuelve una tupla con los mismos elementos que tenga la lista, y la función **list()** toma como parámetro una tupla y retorna una lista.\n",
        "\n"
      ]
    },
    {
      "metadata": {
        "id": "5-aqlJPAKaNZ",
        "colab_type": "code",
        "colab": {
          "base_uri": "https://localhost:8080/",
          "height": 34
        },
        "outputId": "e7179960-6410-4458-ddfe-ce9432fba656"
      },
      "cell_type": "code",
      "source": [
        "tupla = ( \"a\" , \"b\" , \"mpilgrim\" , \" z \" , \" ejemplo \" )\n",
        "tupla"
      ],
      "execution_count": 53,
      "outputs": [
        {
          "output_type": "execute_result",
          "data": {
            "text/plain": [
              "('a', 'b', 'mpilgrim', ' z ', ' ejemplo ')"
            ]
          },
          "metadata": {
            "tags": []
          },
          "execution_count": 53
        }
      ]
    },
    {
      "metadata": {
        "id": "ZVR_w4XTL_Rx",
        "colab_type": "text"
      },
      "cell_type": "markdown",
      "source": [
        "\n",
        "\n",
        "---\n",
        "\n",
        "\n",
        "###Diccionarios\n",
        "Un diccionario es un conjunto desordenado de parejas clave-valor. Cuando añades una clave a un diccionario, tienes que añadir también un valor para esa clave. Los diccionarios de Python están optimizados para recuperar fácilmente el valor cuando conoces la clave, no al revés."
      ]
    },
    {
      "metadata": {
        "id": "wEUgbim6MYel",
        "colab_type": "code",
        "colab": {
          "base_uri": "https://localhost:8080/",
          "height": 34
        },
        "outputId": "263bce8f-f2e6-4cb0-dde7-41744ee35a74"
      },
      "cell_type": "code",
      "source": [
        "diccionario= { 'servidor':'db.diveintopython3.org', 'basedatos':'mysql'}\n",
        "diccionario"
      ],
      "execution_count": 55,
      "outputs": [
        {
          "output_type": "execute_result",
          "data": {
            "text/plain": [
              "{'basedatos': 'mysql', 'servidor': 'db.diveintopython3.org'}"
            ]
          },
          "metadata": {
            "tags": []
          },
          "execution_count": 55
        }
      ]
    },
    {
      "metadata": {
        "id": "Zx9pcHE_NDWD",
        "colab_type": "code",
        "colab": {
          "base_uri": "https://localhost:8080/",
          "height": 34
        },
        "outputId": "da4682c0-70b0-4e05-c76e-a9ca2b2d0e33"
      },
      "cell_type": "code",
      "source": [
        "diccionario ['servidor']"
      ],
      "execution_count": 56,
      "outputs": [
        {
          "output_type": "execute_result",
          "data": {
            "text/plain": [
              "'db.diveintopython3.org'"
            ]
          },
          "metadata": {
            "tags": []
          },
          "execution_count": 56
        }
      ]
    },
    {
      "metadata": {
        "id": "XjMcvF11Ncwp",
        "colab_type": "code",
        "colab": {
          "base_uri": "https://localhost:8080/",
          "height": 68
        },
        "outputId": "c25ac515-3a43-41a0-b855-53d0084d8944"
      },
      "cell_type": "code",
      "source": [
        "diccionario ['basedatos'] = 'blog'\n",
        "diccionario ['usuario'] = 'Paty :)'\n",
        "diccionario"
      ],
      "execution_count": 57,
      "outputs": [
        {
          "output_type": "execute_result",
          "data": {
            "text/plain": [
              "{'basedatos': 'blog',\n",
              " 'servidor': 'db.diveintopython3.org',\n",
              " 'usuario': 'Paty :)'}"
            ]
          },
          "metadata": {
            "tags": []
          },
          "execution_count": 57
        }
      ]
    },
    {
      "metadata": {
        "id": "dpFGrPCvN6lm",
        "colab_type": "text"
      },
      "cell_type": "markdown",
      "source": [
        "Los diccionarios no se usan únicamente con cadenas de texto. Los valores de un diccionario pueden ser de cualquier tipo, incluidos enteros, booleanos, cualquier objeto o incluso otros diccionarios. Y en un mismo diccionario, no es necesario que todos los valores sean del mismo tipo, puedes mezclarlos según lo necesites. Los tipos de datos que pueden ser claves de un diccionario están más limitados, pero pueden ser cadenas de texto, enteros, y algunos tipos más. También es factible mezclar diferentes tipos de clave en un mismo diccionario.\n",
        "Anteriormente, en el primer código, ya se ha utilizado diccionarios con valores diferentes a cadenas de texto.\n",
        "\n",
        "\n",
        "\n",
        "```\n",
        "SUFIJOS = {1000: [ 'KB' , 'MB' , 'GB' , 'TB' , 'PB' , 'EB' , 'ZB' , 'YB' ] ,\n",
        "  1024: [ 'KiB ' , 'MiB ' , 'GiB ' , 'TiB ' , 'PiB ' , 'EiB ' , ' ZiB ' , 'YiB ' ] }\n",
        "```\n",
        "\n"
      ]
    },
    {
      "metadata": {
        "id": "BX9khicyO_8e",
        "colab_type": "text"
      },
      "cell_type": "markdown",
      "source": [
        "\n",
        "\n",
        "---\n",
        "\n",
        "\n",
        "## Capitulo 3: Comprensiones.\n",
        "\n",
        "\n",
        "---\n",
        "\n"
      ]
    },
    {
      "metadata": {
        "id": "TymAgo7BQAuW",
        "colab_type": "code",
        "colab": {
          "base_uri": "https://localhost:8080/",
          "height": 34
        },
        "outputId": "3bcfa686-ade1-4ef1-d6c9-4d08af927889"
      },
      "cell_type": "code",
      "source": [
        "import os\n",
        "print (\"Directorio actual: \", os.getcwd( ))"
      ],
      "execution_count": 59,
      "outputs": [
        {
          "output_type": "stream",
          "text": [
            "Directorio actual:  /content\n"
          ],
          "name": "stdout"
        }
      ]
    },
    {
      "metadata": {
        "id": "-sYrBzK_QitX",
        "colab_type": "text"
      },
      "cell_type": "markdown",
      "source": [
        "# New Section\n",
        "\n",
        "Python 3 posee un módulo denominado **os** que es la contracción de \"operating system\". El módulo **os** contiene un gran número de funciones para recuperar | y en algunos casos, modificar información sobre directorios, ficheros, procesos y variables del entorno local. Python hace un gran esfuerzo por ofrecer una API unificada en todos los sistemas operativos que soporta, por lo que los programas pueden funcionar en casi cualquier ordenador con el mínimo de código específico posible."
      ]
    }
  ]
}